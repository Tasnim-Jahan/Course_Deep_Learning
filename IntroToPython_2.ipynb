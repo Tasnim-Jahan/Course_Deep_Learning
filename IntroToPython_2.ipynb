{
  "nbformat": 4,
  "nbformat_minor": 0,
  "metadata": {
    "colab": {
      "provenance": [],
      "include_colab_link": true
    },
    "kernelspec": {
      "name": "python3",
      "display_name": "Python 3"
    },
    "language_info": {
      "name": "python"
    }
  },
  "cells": [
    {
      "cell_type": "markdown",
      "metadata": {
        "id": "view-in-github",
        "colab_type": "text"
      },
      "source": [
        "<a href=\"https://colab.research.google.com/github/Tasnim-Jahan/Course_Deep_Learning/blob/main/IntroToPython_2.ipynb\" target=\"_parent\"><img src=\"https://colab.research.google.com/assets/colab-badge.svg\" alt=\"Open In Colab\"/></a>"
      ]
    },
    {
      "cell_type": "markdown",
      "source": [
        "Dictionary in Python:"
      ],
      "metadata": {
        "id": "oTLqxV2wYuLs"
      }
    },
    {
      "cell_type": "code",
      "source": [
        "my_dict = {1: \"Pyton\", 2: \"Java\"}\n",
        "my_dict"
      ],
      "metadata": {
        "colab": {
          "base_uri": "https://localhost:8080/"
        },
        "id": "t6Rb662RZBgC",
        "outputId": "db48bad9-69b0-4be1-f221-4f57d7164bef"
      },
      "execution_count": null,
      "outputs": [
        {
          "output_type": "execute_result",
          "data": {
            "text/plain": [
              "{1: 'Pyton', 2: 'Java'}"
            ]
          },
          "metadata": {},
          "execution_count": 83
        }
      ]
    },
    {
      "cell_type": "code",
      "source": [
        "my_dict = {\"First\" : \"Pyton\", \"Second\" : \"Java\"}\n",
        "my_dict"
      ],
      "metadata": {
        "colab": {
          "base_uri": "https://localhost:8080/"
        },
        "id": "fbcKUT64ZaEZ",
        "outputId": "3f6394a2-f05f-4c2d-a9dc-898d56068e56"
      },
      "execution_count": null,
      "outputs": [
        {
          "output_type": "execute_result",
          "data": {
            "text/plain": [
              "{'First': 'Pyton', 'Second': 'Java'}"
            ]
          },
          "metadata": {},
          "execution_count": 84
        }
      ]
    },
    {
      "cell_type": "code",
      "source": [
        "my_dict[\"Third\"] = \"C++\"\n",
        "my_dict"
      ],
      "metadata": {
        "colab": {
          "base_uri": "https://localhost:8080/"
        },
        "id": "tq4wpQHjZvvW",
        "outputId": "f2c7aab3-09ef-4311-fc71-ed0048616e10"
      },
      "execution_count": null,
      "outputs": [
        {
          "output_type": "execute_result",
          "data": {
            "text/plain": [
              "{'First': 'Pyton', 'Second': 'Java', 'Third': 'C++'}"
            ]
          },
          "metadata": {},
          "execution_count": 85
        }
      ]
    },
    {
      "cell_type": "code",
      "source": [
        "print(my_dict)"
      ],
      "metadata": {
        "colab": {
          "base_uri": "https://localhost:8080/"
        },
        "id": "yC8vIhvsapT_",
        "outputId": "f827568e-e4cf-499a-f27e-a30cbf61d81b"
      },
      "execution_count": null,
      "outputs": [
        {
          "output_type": "stream",
          "name": "stdout",
          "text": [
            "{'First': 'Pyton', 'Second': 'Java', 'Third': 'C++'}\n"
          ]
        }
      ]
    },
    {
      "cell_type": "code",
      "source": [
        "my_dict['First']\n",
        "# print(my_dict['First'])"
      ],
      "metadata": {
        "colab": {
          "base_uri": "https://localhost:8080/",
          "height": 37
        },
        "id": "u160olDIelVy",
        "outputId": "112eb66c-7410-45a9-b6ee-dc50686da45e"
      },
      "execution_count": null,
      "outputs": [
        {
          "output_type": "execute_result",
          "data": {
            "text/plain": [
              "'Pyton'"
            ],
            "application/vnd.google.colaboratory.intrinsic+json": {
              "type": "string"
            }
          },
          "metadata": {},
          "execution_count": 87
        }
      ]
    },
    {
      "cell_type": "code",
      "source": [
        "print(my_dict.keys())"
      ],
      "metadata": {
        "colab": {
          "base_uri": "https://localhost:8080/"
        },
        "id": "skmthHTjeuBh",
        "outputId": "281bdfa5-a053-4a49-9df4-7e141a3c4553"
      },
      "execution_count": null,
      "outputs": [
        {
          "output_type": "stream",
          "name": "stdout",
          "text": [
            "dict_keys(['First', 'Second', 'Third'])\n"
          ]
        }
      ]
    },
    {
      "cell_type": "code",
      "source": [
        "print(my_dict.values())"
      ],
      "metadata": {
        "colab": {
          "base_uri": "https://localhost:8080/"
        },
        "id": "-dZbSMAmgR9o",
        "outputId": "ce27ed9f-1ac3-4c05-b85a-8a6aa4713c0e"
      },
      "execution_count": null,
      "outputs": [
        {
          "output_type": "stream",
          "name": "stdout",
          "text": [
            "dict_values(['Pyton', 'Java', 'C++'])\n"
          ]
        }
      ]
    },
    {
      "cell_type": "code",
      "source": [
        "print(my_dict.items())"
      ],
      "metadata": {
        "colab": {
          "base_uri": "https://localhost:8080/"
        },
        "id": "NYO3BuVbgaVO",
        "outputId": "dd56a043-15f0-4f77-ce69-9b7b4b089cb4"
      },
      "execution_count": null,
      "outputs": [
        {
          "output_type": "stream",
          "name": "stdout",
          "text": [
            "dict_items([('First', 'Pyton'), ('Second', 'Java'), ('Third', 'C++')])\n"
          ]
        }
      ]
    },
    {
      "cell_type": "code",
      "source": [
        "x = my_dict.pop('Third')\n",
        "print('Value: ',x)"
      ],
      "metadata": {
        "colab": {
          "base_uri": "https://localhost:8080/"
        },
        "id": "ZnRp3D9Uggoy",
        "outputId": "f185c1cc-de83-41f7-b794-4ef6b10b4d24"
      },
      "execution_count": null,
      "outputs": [
        {
          "output_type": "stream",
          "name": "stdout",
          "text": [
            "Value:  C++\n"
          ]
        }
      ]
    },
    {
      "cell_type": "code",
      "source": [
        "my_dict"
      ],
      "metadata": {
        "colab": {
          "base_uri": "https://localhost:8080/"
        },
        "id": "xKU5Z--Wg_XE",
        "outputId": "54982022-f7a8-43ba-cbc4-bfb3c992dfcc"
      },
      "execution_count": null,
      "outputs": [
        {
          "output_type": "execute_result",
          "data": {
            "text/plain": [
              "{'First': 'Pyton', 'Second': 'Java'}"
            ]
          },
          "metadata": {},
          "execution_count": 92
        }
      ]
    },
    {
      "cell_type": "code",
      "source": [
        "x = my_dict.popitem()\n",
        "x"
      ],
      "metadata": {
        "colab": {
          "base_uri": "https://localhost:8080/"
        },
        "id": "Z4d0t5gDiKVd",
        "outputId": "4bbd2b17-fa35-4f27-a531-6321fb3f0d38"
      },
      "execution_count": null,
      "outputs": [
        {
          "output_type": "execute_result",
          "data": {
            "text/plain": [
              "('Second', 'Java')"
            ]
          },
          "metadata": {},
          "execution_count": 93
        }
      ]
    },
    {
      "cell_type": "code",
      "source": [
        "my_dict"
      ],
      "metadata": {
        "colab": {
          "base_uri": "https://localhost:8080/"
        },
        "id": "nxMIeAB9it_w",
        "outputId": "4bf158a4-5ff8-4023-fd53-71d90319898d"
      },
      "execution_count": null,
      "outputs": [
        {
          "output_type": "execute_result",
          "data": {
            "text/plain": [
              "{'First': 'Pyton'}"
            ]
          },
          "metadata": {},
          "execution_count": 94
        }
      ]
    },
    {
      "cell_type": "markdown",
      "source": [
        "Multi-Dimentional Dictionary"
      ],
      "metadata": {
        "id": "-oaV5COAjZHu"
      }
    },
    {
      "cell_type": "code",
      "source": [
        "fruits = {\"Fruit_name\" : {\n",
        "    \"Apple\" : {\n",
        "        \"Color\": \"Red\",\n",
        "        \"Shape\" : \"Round\"\n",
        "    },\n",
        "    \"Orange\" : {\n",
        "        \"Color\": \"Orange\",\n",
        "        \"Shape\" : \"Round\"\n",
        "    }\n",
        "  }\n",
        "}\n",
        "fruits"
      ],
      "metadata": {
        "colab": {
          "base_uri": "https://localhost:8080/"
        },
        "id": "Ek0pqG_tix2J",
        "outputId": "8372551c-7017-415b-ba19-657c19f76487"
      },
      "execution_count": null,
      "outputs": [
        {
          "output_type": "execute_result",
          "data": {
            "text/plain": [
              "{'Fruit_name': {'Apple': {'Color': 'Red', 'Shape': 'Round'},\n",
              "  'Orange': {'Color': 'Orange', 'Shape': 'Round'}}}"
            ]
          },
          "metadata": {},
          "execution_count": 95
        }
      ]
    },
    {
      "cell_type": "code",
      "source": [
        "example = [\"Sunday\", \"Monday\", \"Tuesday\", \"Wednesday\"];\n",
        "print(example[-3:-1])"
      ],
      "metadata": {
        "colab": {
          "base_uri": "https://localhost:8080/"
        },
        "id": "L_FvFtD8lQhG",
        "outputId": "5f7e0782-3bec-4f58-d523-ec1b3801f6b4"
      },
      "execution_count": null,
      "outputs": [
        {
          "output_type": "stream",
          "name": "stdout",
          "text": [
            "['Monday', 'Tuesday']\n"
          ]
        }
      ]
    },
    {
      "cell_type": "code",
      "source": [
        "numbers = (4, 7, 19, 2, 89, 45, 72, 22)\n",
        "sorted_numbers = sorted(numbers)\n",
        "print(type(sorted_numbers))"
      ],
      "metadata": {
        "colab": {
          "base_uri": "https://localhost:8080/"
        },
        "id": "q4fBNfJbvwcE",
        "outputId": "31892d1a-316b-437a-81bc-2cbc0a25b5a1"
      },
      "execution_count": null,
      "outputs": [
        {
          "output_type": "stream",
          "name": "stdout",
          "text": [
            "<class 'list'>\n"
          ]
        }
      ]
    },
    {
      "cell_type": "code",
      "source": [
        "a = 200\n",
        "b = 200\n",
        "if b > a:\n",
        "  print(\"b is greater than a\")\n",
        "elif b == a:\n",
        "  print(\"a is equal to b\")\n",
        "else:\n",
        "  print(\"a is greater than b\")"
      ],
      "metadata": {
        "colab": {
          "base_uri": "https://localhost:8080/"
        },
        "id": "7afUeI1qwRru",
        "outputId": "388382a3-fff6-4ff4-96d3-ac41058c121e"
      },
      "execution_count": null,
      "outputs": [
        {
          "output_type": "stream",
          "name": "stdout",
          "text": [
            "a is equal to b\n"
          ]
        }
      ]
    },
    {
      "cell_type": "code",
      "source": [
        "fruits = [\"apple\", \"banana\", \"cherry\"]\n",
        "print(fruits[0])\n",
        "print(fruits[1])\n",
        "print(fruits[2])"
      ],
      "metadata": {
        "colab": {
          "base_uri": "https://localhost:8080/"
        },
        "id": "MqzaTBjMy0GO",
        "outputId": "c15f062a-f6af-4e66-d003-7aeb48937122"
      },
      "execution_count": null,
      "outputs": [
        {
          "output_type": "stream",
          "name": "stdout",
          "text": [
            "apple\n",
            "banana\n",
            "cherry\n"
          ]
        }
      ]
    },
    {
      "cell_type": "code",
      "source": [
        "fruits = [\"apple\", \"banana\", \"cherry\"]\n",
        "for x in fruits:\n",
        "  if x == \"banana\":\n",
        "    break\n",
        "  print(x)"
      ],
      "metadata": {
        "colab": {
          "base_uri": "https://localhost:8080/"
        },
        "id": "Hbgc1WHy1PfI",
        "outputId": "8a2d3f30-a9bd-4382-87ec-6d78d63a112d"
      },
      "execution_count": null,
      "outputs": [
        {
          "output_type": "stream",
          "name": "stdout",
          "text": [
            "apple\n"
          ]
        }
      ]
    },
    {
      "cell_type": "code",
      "source": [
        "for x in fruits:\n",
        "  if x == \"banana\":\n",
        "    continue\n",
        "  print(x)"
      ],
      "metadata": {
        "colab": {
          "base_uri": "https://localhost:8080/"
        },
        "id": "5-ccQeq81g0l",
        "outputId": "c7425821-fd43-40d8-d09b-267f5bf57ff5"
      },
      "execution_count": null,
      "outputs": [
        {
          "output_type": "stream",
          "name": "stdout",
          "text": [
            "apple\n",
            "cherry\n"
          ]
        }
      ]
    },
    {
      "cell_type": "code",
      "source": [
        "for x in range(10):\n",
        "  print(x)"
      ],
      "metadata": {
        "colab": {
          "base_uri": "https://localhost:8080/"
        },
        "id": "VdJW4c072ibo",
        "outputId": "57dd6a41-cc75-4661-9250-911309a1b4ec"
      },
      "execution_count": null,
      "outputs": [
        {
          "output_type": "stream",
          "name": "stdout",
          "text": [
            "0\n",
            "1\n",
            "2\n",
            "3\n",
            "4\n",
            "5\n",
            "6\n",
            "7\n",
            "8\n",
            "9\n"
          ]
        }
      ]
    },
    {
      "cell_type": "code",
      "source": [
        "for x in range(1, 11): # To print 1 - 10\n",
        "  print(x)"
      ],
      "metadata": {
        "colab": {
          "base_uri": "https://localhost:8080/"
        },
        "id": "y6oUe1B-4BKV",
        "outputId": "b7713b2c-6e4a-4e9e-f508-e03d82e632a8"
      },
      "execution_count": null,
      "outputs": [
        {
          "output_type": "stream",
          "name": "stdout",
          "text": [
            "1\n",
            "2\n",
            "3\n",
            "4\n",
            "5\n",
            "6\n",
            "7\n",
            "8\n",
            "9\n",
            "10\n"
          ]
        }
      ]
    },
    {
      "cell_type": "code",
      "source": [
        "for x in range(0, 51, 5):\n",
        "  print(x)"
      ],
      "metadata": {
        "colab": {
          "base_uri": "https://localhost:8080/"
        },
        "id": "pvv5bjBH4JVI",
        "outputId": "5124be82-27d7-4362-efa7-95bbb507be31"
      },
      "execution_count": null,
      "outputs": [
        {
          "output_type": "stream",
          "name": "stdout",
          "text": [
            "0\n",
            "5\n",
            "10\n",
            "15\n",
            "20\n",
            "25\n",
            "30\n",
            "35\n",
            "40\n",
            "45\n",
            "50\n"
          ]
        }
      ]
    },
    {
      "cell_type": "code",
      "source": [
        "for x in range(6):\n",
        "  if x == 4:\n",
        "    break\n",
        "  print(x)\n",
        "else:\n",
        "  print(\"Finally finished!\")"
      ],
      "metadata": {
        "colab": {
          "base_uri": "https://localhost:8080/"
        },
        "id": "l2N840rc5XwX",
        "outputId": "607d380a-022a-42b3-c4f0-38afa430a533"
      },
      "execution_count": null,
      "outputs": [
        {
          "output_type": "stream",
          "name": "stdout",
          "text": [
            "0\n",
            "1\n",
            "2\n",
            "3\n"
          ]
        }
      ]
    },
    {
      "cell_type": "code",
      "source": [
        "x = 11.77\n",
        "y = x % 2\n",
        "int(y)"
      ],
      "metadata": {
        "colab": {
          "base_uri": "https://localhost:8080/"
        },
        "id": "4Sbx30lp7d7a",
        "outputId": "6dbdf5b6-88fb-450d-d759-981900972877"
      },
      "execution_count": null,
      "outputs": [
        {
          "output_type": "execute_result",
          "data": {
            "text/plain": [
              "1"
            ]
          },
          "metadata": {},
          "execution_count": 106
        }
      ]
    },
    {
      "cell_type": "code",
      "source": [
        "x = 2\n",
        "y = 3\n",
        "x = x ** y\n",
        "x"
      ],
      "metadata": {
        "colab": {
          "base_uri": "https://localhost:8080/"
        },
        "id": "M0NP-ZZVUDgO",
        "outputId": "33627f05-5138-4c1e-e9c0-a17b343cc8af"
      },
      "execution_count": null,
      "outputs": [
        {
          "output_type": "execute_result",
          "data": {
            "text/plain": [
              "8"
            ]
          },
          "metadata": {},
          "execution_count": 107
        }
      ]
    },
    {
      "cell_type": "code",
      "source": [
        "for x in range(1, 51):\n",
        "  if x%3==0 and x%5==0:\n",
        "    print(x, \"BLUE\")\n",
        "  elif x%3==0:\n",
        "    print(x, \"RED\")\n",
        "  elif x%5==0:\n",
        "    print(x, \"GREEN\")\n",
        "  else:\n",
        "    print(x)"
      ],
      "metadata": {
        "colab": {
          "base_uri": "https://localhost:8080/"
        },
        "id": "N5Px54JcUcVj",
        "outputId": "7f5b18b0-103e-4fb0-da68-7615e09fa93d"
      },
      "execution_count": null,
      "outputs": [
        {
          "output_type": "stream",
          "name": "stdout",
          "text": [
            "1\n",
            "2\n",
            "3 RED\n",
            "4\n",
            "5 GREEN\n",
            "6 RED\n",
            "7\n",
            "8\n",
            "9 RED\n",
            "10 GREEN\n",
            "11\n",
            "12 RED\n",
            "13\n",
            "14\n",
            "15 BLUE\n",
            "16\n",
            "17\n",
            "18 RED\n",
            "19\n",
            "20 GREEN\n",
            "21 RED\n",
            "22\n",
            "23\n",
            "24 RED\n",
            "25 GREEN\n",
            "26\n",
            "27 RED\n",
            "28\n",
            "29\n",
            "30 BLUE\n",
            "31\n",
            "32\n",
            "33 RED\n",
            "34\n",
            "35 GREEN\n",
            "36 RED\n",
            "37\n",
            "38\n",
            "39 RED\n",
            "40 GREEN\n",
            "41\n",
            "42 RED\n",
            "43\n",
            "44\n",
            "45 BLUE\n",
            "46\n",
            "47\n",
            "48 RED\n",
            "49\n",
            "50 GREEN\n"
          ]
        }
      ]
    },
    {
      "cell_type": "code",
      "source": [
        "i = 1 # initializtion\n",
        "while i <= 6: # condition\n",
        "  print(i)\n",
        "  i += 1  # increment"
      ],
      "metadata": {
        "colab": {
          "base_uri": "https://localhost:8080/"
        },
        "id": "klQrH880WjEP",
        "outputId": "630203c2-9e0a-4148-b313-5c885ea308e1"
      },
      "execution_count": null,
      "outputs": [
        {
          "output_type": "stream",
          "name": "stdout",
          "text": [
            "1\n",
            "2\n",
            "3\n",
            "4\n",
            "5\n",
            "6\n"
          ]
        }
      ]
    },
    {
      "cell_type": "code",
      "source": [
        "def hello():\n",
        "  print(\"Hello; How are you???\")"
      ],
      "metadata": {
        "id": "HDq5PalMZmDv"
      },
      "execution_count": null,
      "outputs": []
    },
    {
      "cell_type": "code",
      "source": [
        "hello()"
      ],
      "metadata": {
        "colab": {
          "base_uri": "https://localhost:8080/"
        },
        "id": "DeWbCt1UczfV",
        "outputId": "99f0896f-23be-4391-8dd7-4678f1eacb62"
      },
      "execution_count": null,
      "outputs": [
        {
          "output_type": "stream",
          "name": "stdout",
          "text": [
            "Hello; How are you???\n"
          ]
        }
      ]
    },
    {
      "cell_type": "code",
      "source": [
        "def sum(x, y):\n",
        "  return x+y"
      ],
      "metadata": {
        "id": "KqSPftmAc8Fj"
      },
      "execution_count": null,
      "outputs": []
    },
    {
      "cell_type": "code",
      "source": [
        "sum(10, 77.77)"
      ],
      "metadata": {
        "colab": {
          "base_uri": "https://localhost:8080/"
        },
        "id": "r_msO-oMeGCD",
        "outputId": "5b5f8bce-413b-475d-b16a-06334dbaf807"
      },
      "execution_count": null,
      "outputs": [
        {
          "output_type": "execute_result",
          "data": {
            "text/plain": [
              "87.77"
            ]
          },
          "metadata": {},
          "execution_count": 119
        }
      ]
    },
    {
      "cell_type": "code",
      "source": [
        "def sub(x, y):\n",
        "  return x-y"
      ],
      "metadata": {
        "id": "TD8H9JTvefeY"
      },
      "execution_count": null,
      "outputs": []
    },
    {
      "cell_type": "code",
      "source": [
        "def mult(x, y):\n",
        "  return x*y"
      ],
      "metadata": {
        "id": "cFilhfICevKi"
      },
      "execution_count": null,
      "outputs": []
    },
    {
      "cell_type": "code",
      "source": [
        "def div(x, y):\n",
        "  return x/y"
      ],
      "metadata": {
        "id": "qm5T0QTKez57"
      },
      "execution_count": null,
      "outputs": []
    },
    {
      "cell_type": "code",
      "source": [
        "mult(10, 77.77)"
      ],
      "metadata": {
        "colab": {
          "base_uri": "https://localhost:8080/"
        },
        "id": "OBKHczp3e27a",
        "outputId": "2d26c1aa-54bc-4dc5-f0bc-04e628e3f847"
      },
      "execution_count": null,
      "outputs": [
        {
          "output_type": "execute_result",
          "data": {
            "text/plain": [
              "777.6999999999999"
            ]
          },
          "metadata": {},
          "execution_count": 123
        }
      ]
    },
    {
      "cell_type": "code",
      "source": [
        "def calculator():\n",
        "  print(\"Calculator for + - * /\")\n",
        "  x = float(input(\"Enter 1st number: \"))\n",
        "  y = float(input(\"Enter 2nd number: \"))\n",
        "  print(\"Please press 1 for +, 2 for -, 3 for *, 4 for / \")\n",
        "  z = int(input(\"Press 1 or 2 or 3 or 4: \"))\n",
        "  if z==1:\n",
        "    result = sum(x,y)\n",
        "  elif z==2:\n",
        "    result = sub(x,y)\n",
        "  elif z==3:\n",
        "    result = mult(x,y)\n",
        "  elif z==4:\n",
        "    result = div(x,y)\n",
        "  else:\n",
        "    print(\"Please press the right number\")\n",
        "  print(\"Result: \", result)"
      ],
      "metadata": {
        "id": "0AbNd5JJf4pZ"
      },
      "execution_count": null,
      "outputs": []
    },
    {
      "cell_type": "code",
      "source": [
        "calculator()"
      ],
      "metadata": {
        "colab": {
          "base_uri": "https://localhost:8080/"
        },
        "id": "LwuAibeOiSpo",
        "outputId": "1e187cb3-56c6-4d9b-9a13-9457bb409af4"
      },
      "execution_count": null,
      "outputs": [
        {
          "output_type": "stream",
          "name": "stdout",
          "text": [
            "Calculator for + - * /\n",
            "Enter 1st number: 20\n",
            "Enter 2nd number: 200\n",
            "Please press 1 for +, 2 for -, 3 for *, 4 for / \n",
            "Press 1 or 2 or 3 or 4: 3\n",
            "Result:  4000.0\n"
          ]
        }
      ]
    },
    {
      "cell_type": "code",
      "source": [
        "# Funciton for n!\n",
        "def fac_N(n):\n",
        "  if n==1:\n",
        "    return 1\n",
        "  else:\n",
        "    return n * fac_N(n-1)"
      ],
      "metadata": {
        "id": "B3krUQtKiXr9"
      },
      "execution_count": null,
      "outputs": []
    },
    {
      "cell_type": "code",
      "source": [
        "fac_N(3)"
      ],
      "metadata": {
        "colab": {
          "base_uri": "https://localhost:8080/"
        },
        "id": "gI_ZDPeDmM0P",
        "outputId": "ee2e729e-8264-4369-da51-8cfe7cfe2dd6"
      },
      "execution_count": null,
      "outputs": [
        {
          "output_type": "execute_result",
          "data": {
            "text/plain": [
              "6"
            ]
          },
          "metadata": {},
          "execution_count": 129
        }
      ]
    },
    {
      "cell_type": "code",
      "source": [],
      "metadata": {
        "id": "P7F4-u4kmPDe"
      },
      "execution_count": null,
      "outputs": []
    }
  ]
}